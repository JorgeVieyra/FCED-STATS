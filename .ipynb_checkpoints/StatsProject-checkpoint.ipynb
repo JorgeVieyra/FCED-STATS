{
 "cells": [
  {
   "cell_type": "markdown",
   "id": "2e1df49a",
   "metadata": {},
   "source": [
    "# FCED - Statistics Project\n",
    "#### Group ?\n",
    "- Jorge Vieira up202204385\n",
    "- João Fragão up??????\n",
    "- Tomás Rodrigues up????"
   ]
  },
  {
   "cell_type": "markdown",
   "id": "936aa140",
   "metadata": {},
   "source": [
    "In this project our group conducted a statistical investigation based on the method called \"Six-Steps Statistical Investigation\", using the wildfires in Portugal dataset from 2015, where the process is divided into six fundamental steps:\n",
    "- Step 1 : Ask a research question\n",
    "- Step 2 : Design a study and collect data\n",
    "- Step 3 : Explore the data\n",
    "- Step 4 : Draw Inferences\n",
    "- Step 5 : Formulate conclusions\n",
    "- Step 6 : Look back and ahead\n",
    "\n",
    "In this notebook we go through all these steps in order to answer our reasearch question and make conslusions about our study. But in order for us to have valid and clean data to work with, we first need to clear our dataset from potential error and null values."
   ]
  },
  {
   "cell_type": "markdown",
   "id": "ad80fb4d",
   "metadata": {},
   "source": [
    "## Clean the data"
   ]
  },
  {
   "cell_type": "code",
   "execution_count": 181,
   "id": "b0441429",
   "metadata": {
    "scrolled": true
   },
   "outputs": [
    {
     "name": "stdout",
     "output_type": "stream",
     "text": [
      "23175\n",
      "15669\n",
      "15669\n"
     ]
    }
   ],
   "source": [
    "import pandas as pd\n",
    "import datetime\n",
    "import numpy as np\n",
    "\n",
    "df = pd.read_excel(r'/Users/jorgevieira/Desktop/Universidade/FEUP/YEAR 1/1st SEM/FCED/STATS/FCED-STATS/Lista Incendios_2015.xlsx')\n",
    "df.describe(include='all')\n",
    "print(len(df.index))\n",
    "\n",
    "for index, row in df.iterrows():\n",
    "\n",
    "    if (isinstance(row.DataAlerta, str) and isinstance(row.Data1Intervencao, str) and isinstance(row.DataExtincao, str) and isinstance(row.x, int) and isinstance(row.TipoCausa, str)):\n",
    "        #print(index)\n",
    "        d1 = datetime.datetime.strptime(row.DataAlerta[:-4], '%Y-%m-%d %H:%M:%S')\n",
    "        d2 = datetime.datetime.strptime(row.Data1Intervencao[:-4], '%Y-%m-%d %H:%M:%S')\n",
    "        d3 = datetime.datetime.strptime(row.DataExtincao[:-4], '%Y-%m-%d %H:%M:%S')\n",
    "        #print(d1)\n",
    "        #print(d2)\n",
    "        #print('-------------')\n",
    "    else:\n",
    "        #print('NAO E STRING')\n",
    "        df.drop(index, inplace=True, axis=0)\n",
    "        continue\n",
    "        #print('DROPPED' + str(index))\n",
    "    \n",
    "    if(row.x <= 0):\n",
    "        df.drop(index, inplace=True, axis=0)\n",
    "        continue\n",
    "\n",
    "    if (d2 > d3 or d1 > d3 or d1 > d2):\n",
    "        df.drop(index, inplace=True, axis=0)\n",
    "        continue\n",
    "    \n",
    "    elif (d2 == d3 or d1 == d3 or d1 == d2):\n",
    "\n",
    "        if (isinstance(row.HoraAlerta, datetime.time) and isinstance(row.Hora1Intervencao, datetime.time) and isinstance(row.HoraExtincao, datetime.time)): \n",
    "            if (d2 == d3 and row.HoraExtincao < row.Hora1Intervencao):\n",
    "                #print('HORAS NAO BATEM')\n",
    "                df.drop(index, inplace=True, axis=0)\n",
    "                continue\n",
    "                #print('DROPPED' + str(index))\n",
    "            if (d1 == d3 and row.HoraExtincao < row.HoraAlerta):\n",
    "                #print('HORAS NAO BATEM')\n",
    "                df.drop(index, inplace=True, axis=0)\n",
    "                continue\n",
    "                #print('DROPPED' + str(index))\n",
    "            if (d1 == d2 and row.Hora1Intervencao < row.HoraAlerta):\n",
    "                #print('HORAS NAO BATEM')\n",
    "                df.drop(index, inplace=True, axis=0)\n",
    "                continue\n",
    "                #print('DROPPED' + str(index))\n",
    "            \n",
    "\n",
    "        else:\n",
    "            df.drop(index, inplace=True, axis=0)\n",
    "            continue\n",
    "        \n",
    "\n",
    "print(len(df.index))\n",
    "#with pd.option_context('display.max_rows', None, 'display.max_columns', None):  # more options can be specified also\n",
    "#print(df.head(n=5))"
   ]
  },
  {
   "cell_type": "markdown",
   "id": "13d1ca32",
   "metadata": {},
   "source": [
    "## Step 1 : Ask a research question\n",
    "\n",
    "The research question we chose to answer with our study is:\n",
    "\n",
    "*Which variables can interfere with the burned area of the fire outbreak?*"
   ]
  },
  {
   "cell_type": "markdown",
   "id": "bed31337",
   "metadata": {},
   "source": [
    "## Step 2 : Design a study and collect data\n",
    "\n",
    "This step is where we gather the data and design the study, in this case, the data had already been given to us so the group was able to skip this part of the step."
   ]
  },
  {
   "cell_type": "markdown",
   "id": "feaceb77",
   "metadata": {},
   "source": [
    "## Step 3 : Explore the data\n",
    "In this step we will explore the data collected through the creation of plots and tables in order for us to visualize our data and the relations between the variables of study. For that we start by defining our obkective variables, then we create a new dataframe only with these variables. After, we analyze each variable on its own (Univariant Analysis) and also several variables at a time to understand the correlation between these variables (Multivariant Analysis)."
   ]
  },
  {
   "cell_type": "markdown",
   "id": "5c4f0ccf",
   "metadata": {},
   "source": [
    "### 3.1 : Define objective variables"
   ]
  },
  {
   "cell_type": "markdown",
   "id": "ade01f78",
   "metadata": {},
   "source": [
    "Our group defined 3 numerical variables and 2 categorical variables as our objective variables: the ones we are going to study in order to answer our research question.\n",
    "\n",
    "**Numerical variables**:\n",
    "- `DuracaoFogo` : Duration of the fire, we define this variable as being the difference between the date and hour of the extinction and the date and hour of the alert.\n",
    "- `AreaArdida` : Burnt area in acres.\n",
    "- `TempoExtincao` : Time it took to extinguish the fire, we define this variable as being the difference between the date and hour of extinction and the date and hour of the first intervention.\n",
    "- `TempoReacao` : Time it took for the first intervention to be made, we define this variable as being the difference between the date and hour of first intervention and date and hour of the alert.\n",
    "\n",
    "**Categorical variables**:\n",
    "- `TipoCausa` : Type of the cause\n",
    "- `Regiao` : Region where the fire happened (Interior,Litoral)"
   ]
  },
  {
   "cell_type": "markdown",
   "id": "db1108de",
   "metadata": {},
   "source": [
    "### 3.2 : Create a new dataframe with objective variables"
   ]
  },
  {
   "cell_type": "code",
   "execution_count": 177,
   "id": "c32ca2d7",
   "metadata": {},
   "outputs": [
    {
     "data": {
      "text/html": [
       "<div>\n",
       "<style scoped>\n",
       "    .dataframe tbody tr th:only-of-type {\n",
       "        vertical-align: middle;\n",
       "    }\n",
       "\n",
       "    .dataframe tbody tr th {\n",
       "        vertical-align: top;\n",
       "    }\n",
       "\n",
       "    .dataframe thead th {\n",
       "        text-align: right;\n",
       "    }\n",
       "</style>\n",
       "<table border=\"1\" class=\"dataframe\">\n",
       "  <thead>\n",
       "    <tr style=\"text-align: right;\">\n",
       "      <th></th>\n",
       "      <th>TempoExtincao</th>\n",
       "      <th>DuracaoFogo</th>\n",
       "      <th>TempoReacao</th>\n",
       "      <th>AreaArdida</th>\n",
       "    </tr>\n",
       "  </thead>\n",
       "  <tbody>\n",
       "    <tr>\n",
       "      <th>count</th>\n",
       "      <td>15510.000000</td>\n",
       "      <td>15510.00000</td>\n",
       "      <td>15510.000000</td>\n",
       "      <td>15510.000000</td>\n",
       "    </tr>\n",
       "    <tr>\n",
       "      <th>mean</th>\n",
       "      <td>104.522760</td>\n",
       "      <td>117.71528</td>\n",
       "      <td>13.192521</td>\n",
       "      <td>1.659488</td>\n",
       "    </tr>\n",
       "    <tr>\n",
       "      <th>std</th>\n",
       "      <td>95.014654</td>\n",
       "      <td>96.60899</td>\n",
       "      <td>9.407179</td>\n",
       "      <td>8.524321</td>\n",
       "    </tr>\n",
       "    <tr>\n",
       "      <th>min</th>\n",
       "      <td>0.000000</td>\n",
       "      <td>0.00000</td>\n",
       "      <td>-25.000000</td>\n",
       "      <td>0.000000</td>\n",
       "    </tr>\n",
       "    <tr>\n",
       "      <th>25%</th>\n",
       "      <td>47.000000</td>\n",
       "      <td>59.00000</td>\n",
       "      <td>7.000000</td>\n",
       "      <td>0.010000</td>\n",
       "    </tr>\n",
       "    <tr>\n",
       "      <th>50%</th>\n",
       "      <td>79.000000</td>\n",
       "      <td>92.50000</td>\n",
       "      <td>11.000000</td>\n",
       "      <td>0.071450</td>\n",
       "    </tr>\n",
       "    <tr>\n",
       "      <th>75%</th>\n",
       "      <td>132.750000</td>\n",
       "      <td>147.00000</td>\n",
       "      <td>17.000000</td>\n",
       "      <td>0.500000</td>\n",
       "    </tr>\n",
       "    <tr>\n",
       "      <th>max</th>\n",
       "      <td>1080.000000</td>\n",
       "      <td>1102.00000</td>\n",
       "      <td>70.000000</td>\n",
       "      <td>181.700000</td>\n",
       "    </tr>\n",
       "  </tbody>\n",
       "</table>\n",
       "</div>"
      ],
      "text/plain": [
       "       TempoExtincao  DuracaoFogo   TempoReacao    AreaArdida\n",
       "count   15510.000000  15510.00000  15510.000000  15510.000000\n",
       "mean      104.522760    117.71528     13.192521      1.659488\n",
       "std        95.014654     96.60899      9.407179      8.524321\n",
       "min         0.000000      0.00000    -25.000000      0.000000\n",
       "25%        47.000000     59.00000      7.000000      0.010000\n",
       "50%        79.000000     92.50000     11.000000      0.071450\n",
       "75%       132.750000    147.00000     17.000000      0.500000\n",
       "max      1080.000000   1102.00000     70.000000    181.700000"
      ]
     },
     "execution_count": 177,
     "metadata": {},
     "output_type": "execute_result"
    }
   ],
   "source": [
    "from datetime import datetime, date\n",
    "import numpy as np\n",
    "import seaborn as sns\n",
    "import matplotlib.pyplot as plt\n",
    "from scipy import stats\n",
    "\n",
    "sns.set(rc = {'figure.figsize':(15,8)})\n",
    "\n",
    "regiao = []\n",
    "for line in df.x:\n",
    "    if(line > 212000):\n",
    "        regiao.append('Interior')\n",
    "    else:\n",
    "        regiao.append('Litoral')\n",
    "\n",
    "datasAlerta = list(map(lambda x: datetime.strptime(x[:10],'%Y-%m-%d').date(),df.DataAlerta.values))\n",
    "datasInter = list(map(lambda x: datetime.strptime(x[:10],'%Y-%m-%d').date(),df.Data1Intervencao.values))\n",
    "datasExtincao = list(map(lambda x: datetime.strptime(x[:10],'%Y-%m-%d').date(),df.DataExtincao.values))\n",
    "\n",
    "dataHoraAlerta = []\n",
    "for line1, line2 in zip(df[\"HoraAlerta\"].values,datasAlerta):\n",
    "        dataHoraAlerta.append(datetime.combine(line2,line1))\n",
    "\n",
    "dataHoraInter = []\n",
    "for line1, line2 in zip(df[\"Hora1Intervencao\"].values,datasInter):\n",
    "        dataHoraInter.append(datetime.combine(line2,line1))\n",
    "\n",
    "dataHoraExtincao = []\n",
    "for line1, line2 in zip(df[\"HoraExtincao\"].values,datasExtincao):\n",
    "        dataHoraExtincao.append(datetime.combine(line2,line1))\n",
    "\n",
    "def timediff(l1, l2):\n",
    "    res = []\n",
    "    for line1, line2 in zip(l1,l2):\n",
    "        res.append((line1-line2).total_seconds() / 60)\n",
    "    return res\n",
    "\n",
    "tempoExtincao = timediff(dataHoraExtincao,dataHoraInter)\n",
    "duracaoFogo = timediff(dataHoraExtincao,dataHoraAlerta)\n",
    "tempoReacao = timediff(dataHoraInter, dataHoraAlerta)\n",
    "\n",
    "dict = {'TempoExtincao' : tempoExtincao, 'DuracaoFogo' : duracaoFogo, 'TempoReacao': tempoReacao,'AreaArdida' : df['AA_Total (pov+mato+agric) (ha)'], 'Regiao' : regiao, 'TipoCausa' : df.TipoCausa}\n",
    "\n",
    "newdf = pd.DataFrame(dict)\n",
    "\n",
    "dfSampling = pd.DataFrame(dict)\n",
    "\n",
    "newdf = newdf[(np.abs(stats.zscore(newdf[['AreaArdida', 'TempoExtincao', 'DuracaoFogo', 'TempoReacao']])) < 3).all(axis=1)]"
   ]
  },
  {
   "cell_type": "markdown",
   "id": "0034d8e0",
   "metadata": {},
   "source": [
    "#### Null values"
   ]
  },
  {
   "cell_type": "code",
   "execution_count": 76,
   "id": "562894d6",
   "metadata": {},
   "outputs": [
    {
     "data": {
      "text/plain": [
       "TempoExtincao    0\n",
       "DuracaoFogo      0\n",
       "AreaArdida       0\n",
       "Regiao           0\n",
       "TipoCausa        0\n",
       "dtype: int64"
      ]
     },
     "execution_count": 76,
     "metadata": {},
     "output_type": "execute_result"
    }
   ],
   "source": [
    "newdf.apply(lambda x: sum(x.isnull()), axis=0)"
   ]
  },
  {
   "cell_type": "markdown",
   "id": "2b474f7c",
   "metadata": {},
   "source": [
    "#### Description of the dataframe"
   ]
  },
  {
   "cell_type": "code",
   "execution_count": 178,
   "id": "ded8f06c",
   "metadata": {},
   "outputs": [
    {
     "data": {
      "text/html": [
       "<div>\n",
       "<style scoped>\n",
       "    .dataframe tbody tr th:only-of-type {\n",
       "        vertical-align: middle;\n",
       "    }\n",
       "\n",
       "    .dataframe tbody tr th {\n",
       "        vertical-align: top;\n",
       "    }\n",
       "\n",
       "    .dataframe thead th {\n",
       "        text-align: right;\n",
       "    }\n",
       "</style>\n",
       "<table border=\"1\" class=\"dataframe\">\n",
       "  <thead>\n",
       "    <tr style=\"text-align: right;\">\n",
       "      <th></th>\n",
       "      <th>TempoExtincao</th>\n",
       "      <th>DuracaoFogo</th>\n",
       "      <th>TempoReacao</th>\n",
       "      <th>AreaArdida</th>\n",
       "      <th>Regiao</th>\n",
       "      <th>TipoCausa</th>\n",
       "    </tr>\n",
       "  </thead>\n",
       "  <tbody>\n",
       "    <tr>\n",
       "      <th>count</th>\n",
       "      <td>15510.000000</td>\n",
       "      <td>15510.00000</td>\n",
       "      <td>15510.000000</td>\n",
       "      <td>15510.000000</td>\n",
       "      <td>15510</td>\n",
       "      <td>15510</td>\n",
       "    </tr>\n",
       "    <tr>\n",
       "      <th>unique</th>\n",
       "      <td>NaN</td>\n",
       "      <td>NaN</td>\n",
       "      <td>NaN</td>\n",
       "      <td>NaN</td>\n",
       "      <td>2</td>\n",
       "      <td>5</td>\n",
       "    </tr>\n",
       "    <tr>\n",
       "      <th>top</th>\n",
       "      <td>NaN</td>\n",
       "      <td>NaN</td>\n",
       "      <td>NaN</td>\n",
       "      <td>NaN</td>\n",
       "      <td>Litoral</td>\n",
       "      <td>Negligente</td>\n",
       "    </tr>\n",
       "    <tr>\n",
       "      <th>freq</th>\n",
       "      <td>NaN</td>\n",
       "      <td>NaN</td>\n",
       "      <td>NaN</td>\n",
       "      <td>NaN</td>\n",
       "      <td>11063</td>\n",
       "      <td>5707</td>\n",
       "    </tr>\n",
       "    <tr>\n",
       "      <th>mean</th>\n",
       "      <td>104.522760</td>\n",
       "      <td>117.71528</td>\n",
       "      <td>13.192521</td>\n",
       "      <td>1.659488</td>\n",
       "      <td>NaN</td>\n",
       "      <td>NaN</td>\n",
       "    </tr>\n",
       "    <tr>\n",
       "      <th>std</th>\n",
       "      <td>95.014654</td>\n",
       "      <td>96.60899</td>\n",
       "      <td>9.407179</td>\n",
       "      <td>8.524321</td>\n",
       "      <td>NaN</td>\n",
       "      <td>NaN</td>\n",
       "    </tr>\n",
       "    <tr>\n",
       "      <th>min</th>\n",
       "      <td>0.000000</td>\n",
       "      <td>0.00000</td>\n",
       "      <td>-25.000000</td>\n",
       "      <td>0.000000</td>\n",
       "      <td>NaN</td>\n",
       "      <td>NaN</td>\n",
       "    </tr>\n",
       "    <tr>\n",
       "      <th>25%</th>\n",
       "      <td>47.000000</td>\n",
       "      <td>59.00000</td>\n",
       "      <td>7.000000</td>\n",
       "      <td>0.010000</td>\n",
       "      <td>NaN</td>\n",
       "      <td>NaN</td>\n",
       "    </tr>\n",
       "    <tr>\n",
       "      <th>50%</th>\n",
       "      <td>79.000000</td>\n",
       "      <td>92.50000</td>\n",
       "      <td>11.000000</td>\n",
       "      <td>0.071450</td>\n",
       "      <td>NaN</td>\n",
       "      <td>NaN</td>\n",
       "    </tr>\n",
       "    <tr>\n",
       "      <th>75%</th>\n",
       "      <td>132.750000</td>\n",
       "      <td>147.00000</td>\n",
       "      <td>17.000000</td>\n",
       "      <td>0.500000</td>\n",
       "      <td>NaN</td>\n",
       "      <td>NaN</td>\n",
       "    </tr>\n",
       "    <tr>\n",
       "      <th>max</th>\n",
       "      <td>1080.000000</td>\n",
       "      <td>1102.00000</td>\n",
       "      <td>70.000000</td>\n",
       "      <td>181.700000</td>\n",
       "      <td>NaN</td>\n",
       "      <td>NaN</td>\n",
       "    </tr>\n",
       "  </tbody>\n",
       "</table>\n",
       "</div>"
      ],
      "text/plain": [
       "        TempoExtincao  DuracaoFogo   TempoReacao    AreaArdida   Regiao  \\\n",
       "count    15510.000000  15510.00000  15510.000000  15510.000000    15510   \n",
       "unique            NaN          NaN           NaN           NaN        2   \n",
       "top               NaN          NaN           NaN           NaN  Litoral   \n",
       "freq              NaN          NaN           NaN           NaN    11063   \n",
       "mean       104.522760    117.71528     13.192521      1.659488      NaN   \n",
       "std         95.014654     96.60899      9.407179      8.524321      NaN   \n",
       "min          0.000000      0.00000    -25.000000      0.000000      NaN   \n",
       "25%         47.000000     59.00000      7.000000      0.010000      NaN   \n",
       "50%         79.000000     92.50000     11.000000      0.071450      NaN   \n",
       "75%        132.750000    147.00000     17.000000      0.500000      NaN   \n",
       "max       1080.000000   1102.00000     70.000000    181.700000      NaN   \n",
       "\n",
       "         TipoCausa  \n",
       "count        15510  \n",
       "unique           5  \n",
       "top     Negligente  \n",
       "freq          5707  \n",
       "mean           NaN  \n",
       "std            NaN  \n",
       "min            NaN  \n",
       "25%            NaN  \n",
       "50%            NaN  \n",
       "75%            NaN  \n",
       "max            NaN  "
      ]
     },
     "execution_count": 178,
     "metadata": {},
     "output_type": "execute_result"
    }
   ],
   "source": [
    "newdf.describe(include='all')"
   ]
  },
  {
   "cell_type": "markdown",
   "id": "334b80f6",
   "metadata": {},
   "source": [
    "With this description of the dataframe we can already have a good idea of how the data of each variable is distributed. But we need to go a little deeper into our analysis in order for us to retrieve more information."
   ]
  },
  {
   "cell_type": "markdown",
   "id": "57c0c423",
   "metadata": {},
   "source": [
    "### 3.3 : Univariate analysis\n",
    "In this subsection, we will analyze each variable individually so that we have a better understanding of how the data relative to each of the variables is distributed and make some conclusions about each of the variable."
   ]
  },
  {
   "cell_type": "markdown",
   "id": "b1f2d623",
   "metadata": {},
   "source": [
    "#### `DuracaoFogo`"
   ]
  },
  {
   "cell_type": "code",
   "execution_count": 9,
   "id": "b0f9b6a0",
   "metadata": {},
   "outputs": [
    {
     "data": {
      "text/plain": [
       "count    15579.000000\n",
       "mean       118.526991\n",
       "std         97.881883\n",
       "min          0.000000\n",
       "25%         59.000000\n",
       "50%         93.000000\n",
       "75%        148.000000\n",
       "max       1102.000000\n",
       "Name: DuracaoFogo, dtype: float64"
      ]
     },
     "execution_count": 9,
     "metadata": {},
     "output_type": "execute_result"
    }
   ],
   "source": [
    "newdf['DuracaoFogo'].describe(include='all')"
   ]
  },
  {
   "cell_type": "code",
   "execution_count": 92,
   "id": "92e4bcfb",
   "metadata": {},
   "outputs": [
    {
     "data": {
      "image/png": "[encoded data removed]",
      "text/plain": [
       "<Figure size 1080x576 with 1 Axes>"
      ]
     },
     "metadata": {},
     "output_type": "display_data"
    }
   ],
   "source": [
    "ax = sns.histplot(x = newdf.DuracaoFogo, binwidth = 40, kde = True)\n",
    "ax.lines[0].set_color('crimson')"
   ]
  },
  {
   "cell_type": "markdown",
   "id": "8f373a8b",
   "metadata": {},
   "source": [
    "**NOTE** : In this plot, the width of each bin is 40 minutes"
   ]
  },
  {
   "cell_type": "code",
   "execution_count": 93,
   "id": "645c280e",
   "metadata": {},
   "outputs": [
    {
     "data": {
      "text/plain": [
       "<AxesSubplot:xlabel='DuracaoFogo'>"
      ]
     },
     "execution_count": 93,
     "metadata": {},
     "output_type": "execute_result"
    },
    {
     "data": {
      "image/png": "[encoded data removed]",
      "text/plain": [
       "<Figure size 1080x576 with 1 Axes>"
      ]
     },
     "metadata": {},
     "output_type": "display_data"
    }
   ],
   "source": [
    "sns.boxplot(x = newdf.DuracaoFogo)"
   ]
  },
  {
   "cell_type": "markdown",
   "id": "81043829",
   "metadata": {},
   "source": [
    "**What can we conclude about** `DuracaoFogo`?\n",
    "- Most fires last between 40 and 80 minutes\n",
    "- 75% of all fires last for 148 minutes or less\n",
    "- On average fires last for, approximately, 118 minutes\n",
    "- Even though we removed outliers that were bigger than 3 times the standard deviation, the fire with the longest duration is 1102 minutes long, which is much longer than 75% of all fires."
   ]
  },
  {
   "cell_type": "markdown",
   "id": "5e791284",
   "metadata": {},
   "source": [
    "#### `TempoExtincao`"
   ]
  },
  {
   "cell_type": "code",
   "execution_count": 37,
   "id": "1f12acc2",
   "metadata": {},
   "outputs": [
    {
     "data": {
      "text/plain": [
       "count    15579.000000\n",
       "mean       104.837409\n",
       "std         95.488158\n",
       "min          0.000000\n",
       "25%         48.000000\n",
       "50%         80.000000\n",
       "75%        133.000000\n",
       "max       1080.000000\n",
       "Name: TempoExtincao, dtype: float64"
      ]
     },
     "execution_count": 37,
     "metadata": {},
     "output_type": "execute_result"
    }
   ],
   "source": [
    "newdf['TempoExtincao'].describe(include='all')"
   ]
  },
  {
   "cell_type": "code",
   "execution_count": 94,
   "id": "f0ca2350",
   "metadata": {},
   "outputs": [
    {
     "data": {
      "image/png": "[encoded data removed]",
      "text/plain": [
       "<Figure size 1080x576 with 1 Axes>"
      ]
     },
     "metadata": {},
     "output_type": "display_data"
    }
   ],
   "source": [
    "ax = sns.histplot(x = newdf.TempoExtincao, binwidth = 40, kde = True)\n",
    "ax.lines[0].set_color('crimson')"
   ]
  },
  {
   "cell_type": "markdown",
   "id": "739e9eff",
   "metadata": {},
   "source": [
    "**NOTE** : In this plot, the width of each bin is 40 minutes"
   ]
  },
  {
   "cell_type": "code",
   "execution_count": 90,
   "id": "edd5ba02",
   "metadata": {},
   "outputs": [
    {
     "data": {
      "text/plain": [
       "<AxesSubplot:xlabel='TempoExtincao'>"
      ]
     },
     "execution_count": 90,
     "metadata": {},
     "output_type": "execute_result"
    },
    {
     "data": {
      "image/png": "[encoded data removed]",
      "text/plain": [
       "<Figure size 1080x576 with 1 Axes>"
      ]
     },
     "metadata": {},
     "output_type": "display_data"
    }
   ],
   "source": [
    "sns.boxplot(x = newdf.TempoExtincao)"
   ]
  },
  {
   "cell_type": "markdown",
   "id": "4174d010",
   "metadata": {},
   "source": [
    "**What can we conclude about** `TempoExtincao`?\n",
    "- Most fires take between 40 and 80 minutes to be extinguished\n",
    "- 75% of all fires take 133 minutes or less to be extinguished\n",
    "- On average fires take, approximately, 118 minutes to be extinugished\n",
    "- Even though we removed outliers that were bigger than 3 times the standard deviation, the fire that took the longest to be extinguished, took 1080 minutes, which is much longer than 75% of all fires."
   ]
  },
  {
   "cell_type": "markdown",
   "id": "3717ef5e",
   "metadata": {},
   "source": [
    "#### `AreaArdida`"
   ]
  },
  {
   "cell_type": "code",
   "execution_count": 45,
   "id": "3a26a980",
   "metadata": {},
   "outputs": [
    {
     "data": {
      "text/plain": [
       "count    15579.000000\n",
       "mean         1.677205\n",
       "std          8.571770\n",
       "min          0.000000\n",
       "25%          0.010000\n",
       "50%          0.074000\n",
       "75%          0.500000\n",
       "max        181.700000\n",
       "Name: AreaArdida, dtype: float64"
      ]
     },
     "execution_count": 45,
     "metadata": {},
     "output_type": "execute_result"
    }
   ],
   "source": [
    "newdf['AreaArdida'].describe(include='all')"
   ]
  },
  {
   "cell_type": "code",
   "execution_count": 180,
   "id": "61665918",
   "metadata": {},
   "outputs": [
    {
     "data": {
      "text/plain": [
       "(0.0, 5.0)"
      ]
     },
     "execution_count": 180,
     "metadata": {},
     "output_type": "execute_result"
    },
    {
     "data": {
      "image/png": "[encoded data removed]",
      "text/plain": [
       "<Figure size 1080x576 with 1 Axes>"
      ]
     },
     "metadata": {},
     "output_type": "display_data"
    }
   ],
   "source": [
    "ax = sns.histplot(x = newdf.AreaArdida, binwidth = 0.1 , kde = True)\n",
    "ax.lines[0].set_color('crimson')\n",
    "plt.xlim(0,5)"
   ]
  },
  {
   "cell_type": "markdown",
   "id": "6fcf3125",
   "metadata": {},
   "source": [
    "**NOTE** : In this plot, the width of each bin is 0.1 acres"
   ]
  },
  {
   "cell_type": "code",
   "execution_count": 89,
   "id": "f6cd3ac0",
   "metadata": {},
   "outputs": [
    {
     "data": {
      "text/plain": [
       "(0.0, 2.0)"
      ]
     },
     "execution_count": 89,
     "metadata": {},
     "output_type": "execute_result"
    },
    {
     "data": {
      "image/png": "[encoded data removed]",
      "text/plain": [
       "<Figure size 1080x576 with 1 Axes>"
      ]
     },
     "metadata": {},
     "output_type": "display_data"
    }
   ],
   "source": [
    "sns.boxplot(x = newdf.AreaArdida)\n",
    "plt.xlim(0,2)"
   ]
  },
  {
   "cell_type": "markdown",
   "id": "27cde2c4",
   "metadata": {},
   "source": [
    "**What can we conclude about** `TempoExtincao`?\n",
    "- Most fires burn between 0 and 0.1 acres of land, which means most fires have a small dimension.\n",
    "- 75% of all fires burn 0.5 acres or less.\n",
    "- On average fires burn, approximately, 1.6 acres of land. Which is way above the maximum of the 75%, this means that there are fires with very big dimensions which increase the mean by a lot.\n",
    "- Even though we removed outliers that were bigger than 3 times the standard deviation, the fire that burnt the most land , burnt 181.7 acres, which is a much bigger area than 75% of all fires."
   ]
  },
  {
   "cell_type": "markdown",
   "id": "88c64971",
   "metadata": {},
   "source": [
    "#### `TipoCausa`"
   ]
  },
  {
   "cell_type": "code",
   "execution_count": 77,
   "id": "150a6b69",
   "metadata": {},
   "outputs": [
    {
     "data": {
      "text/plain": [
       "count          15579\n",
       "unique             5\n",
       "top       Negligente\n",
       "freq            5741\n",
       "Name: TipoCausa, dtype: object"
      ]
     },
     "execution_count": 77,
     "metadata": {},
     "output_type": "execute_result"
    }
   ],
   "source": [
    "newdf['TipoCausa'].describe(include='all')"
   ]
  },
  {
   "cell_type": "code",
   "execution_count": 160,
   "id": "0f9b468b",
   "metadata": {},
   "outputs": [
    {
     "data": {
      "image/png": "[encoded data removed]",
      "text/plain": [
       "<Figure size 1080x576 with 1 Axes>"
      ]
     },
     "metadata": {},
     "output_type": "display_data"
    }
   ],
   "source": [
    "ax = sns.histplot(x = newdf.TipoCausa, stat = 'percent', palette = 'pastel')\n",
    "ax.patches[0].set_facecolor('crimson')\n",
    "ax.patches[1].set_facecolor('forestgreen')\n",
    "ax.patches[2].set_facecolor('gold')\n",
    "ax.patches[3].set_facecolor('teal')\n",
    "ax.patches[4].set_facecolor('turquoise')"
   ]
  },
  {
   "cell_type": "markdown",
   "id": "7b3933cc",
   "metadata": {},
   "source": []
  },
  {
   "cell_type": "markdown",
   "id": "a4116477",
   "metadata": {},
   "source": [
    "#### `Regiao`"
   ]
  },
  {
   "cell_type": "code",
   "execution_count": 97,
   "id": "2db1d7f3",
   "metadata": {},
   "outputs": [
    {
     "data": {
      "text/plain": [
       "count       15579\n",
       "unique          2\n",
       "top       Litoral\n",
       "freq        11100\n",
       "Name: Regiao, dtype: object"
      ]
     },
     "execution_count": 97,
     "metadata": {},
     "output_type": "execute_result"
    }
   ],
   "source": [
    "newdf['Regiao'].describe(include='all')"
   ]
  },
  {
   "cell_type": "code",
   "execution_count": 168,
   "id": "05ff5061",
   "metadata": {},
   "outputs": [
    {
     "data": {
      "image/png": "[encoded data removed]",
      "text/plain": [
       "<Figure size 360x504 with 1 Axes>"
      ]
     },
     "metadata": {},
     "output_type": "display_data"
    }
   ],
   "source": [
    "plt.figure(figsize = (5,7))\n",
    "ax = sns.histplot(x = newdf.Regiao, stat = 'percent')\n",
    "ax.patches[0].set_facecolor('darkturquoise')\n",
    "ax.patches[1].set_facecolor('peru')"
   ]
  },
  {
   "cell_type": "code",
   "execution_count": null,
   "id": "18c5017e",
   "metadata": {},
   "outputs": [],
   "source": []
  }
 ],
 "metadata": {
  "kernelspec": {
   "display_name": "Python 3 (ipykernel)",
   "language": "python",
   "name": "python3"
  },
  "language_info": {
   "codemirror_mode": {
    "name": "ipython",
    "version": 3
   },
   "file_extension": ".py",
   "mimetype": "text/x-python",
   "name": "python",
   "nbconvert_exporter": "python",
   "pygments_lexer": "ipython3",
   "version": "3.9.12"
  }
 },
 "nbformat": 4,
 "nbformat_minor": 5
}
