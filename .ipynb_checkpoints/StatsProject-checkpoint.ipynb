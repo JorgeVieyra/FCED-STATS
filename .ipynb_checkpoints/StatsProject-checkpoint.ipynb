{
 "cells": [
  {
   "cell_type": "markdown",
   "id": "f5ddd358",
   "metadata": {},
   "source": [
    "# Script to remove error values"
   ]
  },
  {
   "cell_type": "code",
   "execution_count": 66,
   "id": "b0441429",
   "metadata": {},
   "outputs": [
    {
     "name": "stdout",
     "output_type": "stream",
     "text": [
      "6952\n",
      "6587\n"
     ]
    }
   ],
   "source": [
    "import pandas as pd\n",
    "import datetime\n",
    "\n",
    "df = pd.read_excel(r'/Users/jorgevieira/Desktop/Universidade/FEUP/YEAR 1/1st SEM/FCED/STATS/FCED-STATS/Lista Incendios_2015.xlsx')\n",
    "sample = df.sample(frac = 0.3)\n",
    "\n",
    "print(len(sample.index))\n",
    "\n",
    "\n",
    "for index, row in sample.iterrows():\n",
    "\n",
    "    if (isinstance(row.DataAlerta, str) and isinstance(row.Data1Intervencao, str) and isinstance(row.DataExtincao, str)):\n",
    "        #print(index)\n",
    "        d1 = datetime.datetime.strptime(row.DataAlerta[:-4], '%Y-%m-%d %H:%M:%S')\n",
    "        d2 = datetime.datetime.strptime(row.Data1Intervencao[:-4], '%Y-%m-%d %H:%M:%S')\n",
    "        d3 = datetime.datetime.strptime(row.DataExtincao[:-4], '%Y-%m-%d %H:%M:%S')\n",
    "        #print(d1)\n",
    "        #print(d2)\n",
    "        #print('-------------')\n",
    "    else:\n",
    "        #print('NAO E STRING')\n",
    "        sample.drop(index, inplace=True, axis=0)\n",
    "        continue\n",
    "        #print('DROPPED' + str(index))\n",
    "\n",
    "    if (d1 > d2 or d1 > d3):\n",
    "        sample.drop(index, inplace=True, axis=0)\n",
    "        continue\n",
    "\n",
    "    elif (d1 == d2 or d1 == d3):\n",
    "\n",
    "        if (isinstance(row.HoraAlerta, datetime.time) and isinstance(row.Hora1Intervencao, datetime.time) and isinstance(row.HoraExtincao, datetime.time)): \n",
    "            if (d1 == d2 and row.Hora1Intervencao < row.HoraAlerta):\n",
    "                #print('HORAS NAO BATEM')\n",
    "                sample.drop(index, inplace=True, axis=0)\n",
    "                continue\n",
    "                #print('DROPPED' + str(index))\n",
    "            if (d1 == d3 and row.HoraExtincao < row.HoraAlerta):\n",
    "                #print('HORAS NAO BATEM')\n",
    "                sample.drop(index, inplace=True, axis=0)\n",
    "                continue\n",
    "                #print('DROPPED' + str(index))\n",
    "        else:\n",
    "            sample.drop(index, inplace=True, axis=0)\n",
    "            continue\n",
    "\n",
    "print(len(sample.index))\n",
    "#with pd.option_context('display.max_rows', None, 'display.max_columns', None):  # more options can be specified also\n",
    "#print(sample.head(n=5))"
   ]
  },
  {
   "cell_type": "markdown",
   "id": "8d858d79",
   "metadata": {},
   "source": [
    "# Step 3 : Explore the data"
   ]
  },
  {
   "cell_type": "code",
   "execution_count": 67,
   "id": "a8fc4b1e",
   "metadata": {},
   "outputs": [],
   "source": [
    "from datetime import datetime, date\n",
    "import numpy as np\n",
    "import seaborn as sns\n",
    "import matplotlib.pyplot as plt\n",
    "\n",
    "datasAlerta = list(map(lambda x: datetime.strptime(x[:10],'%Y-%m-%d').date(),sample.DataAlerta.values))\n",
    "datasInter = list(map(lambda x: datetime.strptime(x[:10],'%Y-%m-%d').date(),sample.Data1Intervencao.values))\n",
    "datasExtincao = list(map(lambda x: datetime.strptime(x[:10],'%Y-%m-%d').date(),sample.DataExtincao.values))\n",
    "\n",
    "dataHoraAlerta = []\n",
    "for line1, line2 in zip(sample[\"HoraAlerta\"].values,datasAlerta):\n",
    "        dataHoraAlerta.append(datetime.combine(line2,line1))\n",
    "        \n",
    "dataHoraInter = []\n",
    "for line1, line2 in zip(sample[\"Hora1Intervencao\"].values,datasInter):\n",
    "        dataHoraInter.append(datetime.combine(line2,line1))\n",
    "        \n",
    "dataHoraExtincao = []\n",
    "for line1, line2 in zip(sample[\"HoraExtincao\"].values,datasExtincao):\n",
    "        dataHoraExtincao.append(datetime.combine(line2,line1))\n",
    "\n",
    "def timediff(l1, l2):\n",
    "    res = []\n",
    "    for line1, line2 in zip(l1,l2):\n",
    "        res.append(line1-line2)\n",
    "    return res\n",
    "\n",
    "tempoReacao = list(map(lambda x: x / pd.Timedelta(hours=24), timediff(dataHoraInter,dataHoraAlerta)))\n",
    "duracaoFogo = list(map(lambda x: x / pd.Timedelta(hours=24), timediff(dataHoraExtincao,dataHoraAlerta)))\n"
   ]
  },
  {
   "cell_type": "code",
   "execution_count": 68,
   "id": "caff6fc7",
   "metadata": {},
   "outputs": [
    {
     "name": "stdout",
     "output_type": "stream",
     "text": [
      "Freedman–Diaconis number of bins: 17953\n"
     ]
    },
    {
     "data": {
      "text/plain": [
       "(0.0, 1.0)"
      ]
     },
     "execution_count": 68,
     "metadata": {},
     "output_type": "execute_result"
    },
    {
     "data": {
      "image/png": "[encoded data removed]",
      "text/plain": [
       "<Figure size 432x288 with 1 Axes>"
      ]
     },
     "metadata": {
      "needs_background": "light"
     },
     "output_type": "display_data"
    }
   ],
   "source": [
    "q25, q75 = np.percentile(duracaoFogo, [25, 75])\n",
    "bin_width = 2 * (q75 - q25) * len(duracaoFogo) ** (-1/3)\n",
    "bins = round((max(duracaoFogo) - min(duracaoFogo)) / bin_width)\n",
    "print(\"Freedman–Diaconis number of bins:\", bins)\n",
    "\n",
    "sns.kdeplot(duracaoFogo)\n",
    "plt.ylim(0,1)"
   ]
  },
  {
   "cell_type": "code",
   "execution_count": null,
   "id": "11dd1bed",
   "metadata": {},
   "outputs": [],
   "source": []
  }
 ],
 "metadata": {
  "kernelspec": {
   "display_name": "Python 3 (ipykernel)",
   "language": "python",
   "name": "python3"
  },
  "language_info": {
   "codemirror_mode": {
    "name": "ipython",
    "version": 3
   },
   "file_extension": ".py",
   "mimetype": "text/x-python",
   "name": "python",
   "nbconvert_exporter": "python",
   "pygments_lexer": "ipython3",
   "version": "3.9.12"
  }
 },
 "nbformat": 4,
 "nbformat_minor": 5
}
